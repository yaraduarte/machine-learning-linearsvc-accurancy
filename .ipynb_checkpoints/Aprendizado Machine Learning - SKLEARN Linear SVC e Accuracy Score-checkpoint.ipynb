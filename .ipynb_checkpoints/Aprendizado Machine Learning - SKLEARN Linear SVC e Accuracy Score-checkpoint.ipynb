{
 "cells": [
  {
   "cell_type": "code",
   "execution_count": 2,
   "id": "4ad70173",
   "metadata": {},
   "outputs": [],
   "source": [
    "#features\n",
    "#pelo curto ou longo?\n",
    "#perna é curta?\n",
    "#faz auau?\n",
    "\n",
    "porco1 = [0, 1, 0]\n",
    "porco2 = [0, 1, 1]\n",
    "porco3 = [1, 1, 0]\n",
    "\n",
    "cachorro1 = [0, 1, 1]\n",
    "cachorro2 = [1, 0, 1]\n",
    "cachorro3 = [1, 1, 1]\n",
    "\n",
    "# 1 = porco, 0 = cachorro\n",
    "treino_x = [porco1, porco2, porco3, cachorro1, cachorro2, cachorro3]\n",
    "treino_y = [1, 1, 1, 0, 0, 0]"
   ]
  },
  {
   "cell_type": "code",
   "execution_count": 3,
   "id": "3ddf99b5",
   "metadata": {},
   "outputs": [
    {
     "data": {
      "text/plain": [
       "LinearSVC()"
      ]
     },
     "execution_count": 3,
     "metadata": {},
     "output_type": "execute_result"
    }
   ],
   "source": [
    "from sklearn.svm import LinearSVC\n",
    "\n",
    "model = LinearSVC()\n",
    "model.fit(treino_x, treino_y)"
   ]
  },
  {
   "cell_type": "code",
   "execution_count": 5,
   "id": "16cc0f23",
   "metadata": {},
   "outputs": [],
   "source": [
    "animal1 = [1, 1, 1]\n",
    "animal2 = [0, 1, 0]\n",
    "animal3 = [0, 0, 1]\n",
    "\n",
    "testes_x = [animal1, animal2, animal3]\n",
    "previsoes = model.predict(testes_x)"
   ]
  },
  {
   "cell_type": "code",
   "execution_count": 6,
   "id": "4bce6012",
   "metadata": {},
   "outputs": [],
   "source": [
    "testes_y = [0, 1, 1]"
   ]
  },
  {
   "cell_type": "code",
   "execution_count": 7,
   "id": "dde8a4c8",
   "metadata": {},
   "outputs": [
    {
     "name": "stdout",
     "output_type": "stream",
     "text": [
      "A taxa de acerto é de: 66.67\n"
     ]
    }
   ],
   "source": [
    "corretos = (previsoes == testes_y).sum()\n",
    "total = len(testes_x)\n",
    "taxa_acerto = corretos/total\n",
    "print(\"A taxa de acerto é de: %.2f\" % (taxa_acerto * 100))"
   ]
  },
  {
   "cell_type": "code",
   "execution_count": 9,
   "id": "29634215",
   "metadata": {},
   "outputs": [
    {
     "name": "stdout",
     "output_type": "stream",
     "text": [
      "A taxa de acerto é de: 66.67\n"
     ]
    }
   ],
   "source": [
    "from sklearn.metrics import accuracy_score\n",
    "\n",
    "taxa_de_acerto = accuracy_score(testes_y, previsoes)\n",
    "print(\"A taxa de acerto é de: %.2f\" % (taxa_de_acerto * 100))\n"
   ]
  },
  {
   "cell_type": "code",
   "execution_count": null,
   "id": "0385b701",
   "metadata": {},
   "outputs": [],
   "source": []
  }
 ],
 "metadata": {
  "kernelspec": {
   "display_name": "Python 3 (ipykernel)",
   "language": "python",
   "name": "python3"
  },
  "language_info": {
   "codemirror_mode": {
    "name": "ipython",
    "version": 3
   },
   "file_extension": ".py",
   "mimetype": "text/x-python",
   "name": "python",
   "nbconvert_exporter": "python",
   "pygments_lexer": "ipython3",
   "version": "3.9.7"
  }
 },
 "nbformat": 4,
 "nbformat_minor": 5
}
